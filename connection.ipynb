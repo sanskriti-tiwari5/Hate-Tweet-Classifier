{
 "cells": [
  {
   "cell_type": "code",
   "execution_count": 1,
   "metadata": {},
   "outputs": [],
   "source": [
    "from flask import Flask\n",
    "from flask import request, redirect, url_for, render_template\n",
    "from joblib import load"
   ]
  },
  {
   "cell_type": "code",
   "execution_count": 2,
   "metadata": {},
   "outputs": [],
   "source": [
    "import tweepy"
   ]
  },
  {
   "cell_type": "code",
   "execution_count": 3,
   "metadata": {},
   "outputs": [],
   "source": [
    "import pandas as pd"
   ]
  },
  {
   "cell_type": "code",
   "execution_count": 4,
   "metadata": {},
   "outputs": [],
   "source": [
    "consumer_key = \"SdW7QLZjN39FdAOHEVIOuauwa\"\n",
    "secret_key = \"BAXx75Uoh5VkLyju1S2dt0tRbBE2smBpSACxVnmlTxuUUChGcz\"\n",
    "access_token = \"1014529904954695681-9YATWwNEkc1iHpk1PgKEZScKs8lhW6\"\n",
    "secret_token = \"SMCjfhB6OSec7eIXZQuDgUpff01OVPKOkAJFDseA90FIu\"\n",
    "\n",
    "#Now, we'll authenticate these \n",
    "authenticate = tweepy.OAuthHandler(consumer_key, secret_key)"
   ]
  },
  {
   "cell_type": "code",
   "execution_count": 5,
   "metadata": {},
   "outputs": [],
   "source": [
    "authenticate.set_access_token(access_token, secret_token)\n",
    "\n",
    "#Calling the api\n",
    "tweet_api = tweepy.API(authenticate, wait_on_rate_limit = True)"
   ]
  },
  {
   "cell_type": "code",
   "execution_count": 6,
   "metadata": {},
   "outputs": [],
   "source": [
    "def get_tweets(query):\n",
    "    list_of_tweet = []\n",
    "    count = 60\n",
    "    try:\n",
    "        for tweet in tweet_api.search(q = query, count =count):\n",
    "            if tweet.lang == \"en\":\n",
    "                print(tweet.text)\n",
    "                list_of_tweet.append({'Tweet': tweet.text})\n",
    "\n",
    "        return pd.DataFrame.from_dict(list_of_tweet)\n",
    "    \n",
    "    \n",
    "\n",
    "    except BaseException as e:\n",
    "        print('Failed', str(e))\n",
    "        time.sleep(5)"
   ]
  },
  {
   "cell_type": "code",
   "execution_count": 7,
   "metadata": {},
   "outputs": [],
   "source": [
    "pipe = load('Tweet_classifier.joblib')"
   ]
  },
  {
   "cell_type": "code",
   "execution_count": 8,
   "metadata": {},
   "outputs": [],
   "source": [
    "def Results(name):\n",
    "    tweets = get_tweets(name)\n",
    "    tweets['Prediction'] = pipe.predict(tweets['Tweet'])\n",
    "    data = str(tweets.Prediction.value_counts()) + '\\n\\n'\n",
    "    ex = \" 0 -> Neutral Tweet \\n 1-> Hate Tweet\" + '\\n\\n'\n",
    "    return data + ex + str(tweets)\n"
   ]
  },
  {
   "cell_type": "code",
   "execution_count": null,
   "metadata": {},
   "outputs": [
    {
     "name": "stdout",
     "output_type": "stream",
     "text": [
      " * Serving Flask app \"__main__\" (lazy loading)\n",
      " * Environment: production\n",
      "   WARNING: This is a development server. Do not use it in a production deployment.\n",
      "   Use a production WSGI server instead.\n",
      " * Debug mode: off\n"
     ]
    },
    {
     "name": "stderr",
     "output_type": "stream",
     "text": [
      " * Running on http://127.0.0.1:5000/ (Press CTRL+C to quit)\n",
      "127.0.0.1 - - [20/Jul/2020 03:14:51] \"\u001b[37mGET / HTTP/1.1\u001b[0m\" 200 -\n",
      "127.0.0.1 - - [20/Jul/2020 03:15:14] \"\u001b[32mPOST / HTTP/1.1\u001b[0m\" 302 -\n",
      "127.0.0.1 - - [20/Jul/2020 03:15:32] \"\u001b[37mGET /success/Protest HTTP/1.1\u001b[0m\" 200 -\n"
     ]
    },
    {
     "name": "stdout",
     "output_type": "stream",
     "text": [
      "RT @BenjaminSWatson: I don’t pretend to know why each person has the Confederate flag today, but I do know that in 1948, Strom Thurmond res…\n",
      "RT @Alfred_Uyghur: Remember these brave Uyghurs inside “Xinjiang” /ET /Uyghuria, though unlike us they can’t speak about detainment of thei…\n",
      "RT @RdPirateRoberts: Hey everyone! I wanted to restate our mission for new followers:\n",
      "Please don't be alone at the PDX protest. If you dont…\n",
      "RT @IwriteOK: This is bullshit.\n",
      "\n",
      "I was there. The burning of the PPA was an intelligent, deliberate and successful action by well organized…\n",
      "RT @SaskiaPopescu: In AZ, school reopening sparks protests ⁦@Reuters⁩-“teachers want Gov Ducey (R) to push the start of in-person school to…\n",
      "RT @SocialistVoice: Rebel pensioners could write TV licence cheques in Cornish in protest\n",
      "\n",
      "Outraged pensioners are planning to gum up the w…\n",
      "RT @Kintu3: Violent Portland Rioters Chant 'Every City, Every Town, Burn the Precincts to the Ground' During Black Lives Matter 'Protest' h…\n",
      "RT @NPR: The Trump administration calls Portland a \"city under siege.\" \n",
      "\n",
      "Protesters and journalists who frequent the demonstrations agree a…\n",
      "RT @soulflora: In my rewatch of Arthur I came across this episode featuring John Lewis that taught children the importance of protest and s…\n",
      "RT @LeslynLewis: Peaceful protests are an important part of our democratic process. Anyone that engages in physical violence, destruction o…\n",
      "RT @MotherJones: \"Whether it’s Chicago or Portland or Milwaukee or someplace across the heartland of the country\" https://t.co/lcW3I1mGkm\n",
      "RT @Cernovich: The New York Times is running propaganda for a member of ANTIFA who believes that fire bombing of the Portland Police Associ…\n",
      "RT @CHICAGOCREATUR1: Last night’s protest kimball/Fullerton,  unmarked CPD vehicle runs over protesters on the sidewalk (plate: 9652) https…\n",
      "RT @simondolan: Hundreds gather in Hyde Park to protest against wearing masks https://t.co/y7jDkWU7Cr\n",
      "@davenewworld_2 They are either paid. Guy looks indian, definitely the girl. What does race have to do with guy get… https://t.co/zFcBCUnEsB\n",
      "RT @SealeTeam1: @BlackIrishI Wyden and Merkely compare ranchers in Malhuer refuge protest to \"spreading Virus\" and celebrate federal and st…\n",
      "RT @mog7546: Federal agents target pregnant woman with flash bang during Moms Against Police Brutality protest\n",
      "\n",
      "The Moms Against Police Bru…\n",
      "RT @groth1945: 🆘Marxist BLM,Marxist ANTIFA,Fascist Boogaloo, Radical Democrats,Protesters and Looters take note . This is what YOUR IDEOLOG…\n",
      "RT @DavMicRot: @realDonaldTrump DHS &amp; DOJ Unmarked Paramilitary in Portland grabbing peaceful protesters off streets, bringing them to undi…\n",
      "RT @wrkclasshistory: #OtD 19 Jul 1958 a group of Black students began a sit-in at the whites-only counter of Dockum's Drug Store in Wichita…\n",
      "RT @AIAseanjacoby: @DeAnna4Congress This is weird. Did @SpeakerPelosi pack up and leave because she didn’t like the way they were protestin…\n",
      "RT @danagould: In Portland, anonymous forces of the Federal Govt are pulling people off the street &amp; loading them into unmarked vans over t…\n",
      "@ktva Always beach pictures never protest pictures\n",
      "RT @ElijahSchaffer: Protest organizer claims their mission is the “abolition of the United States as we know it”\n",
      "\n",
      " https://t.co/HHj90FyReT\n",
      "RT @balchkatrina: hey twt, if y'all can PLEASE find any info on this man named Mel, he ran over multiple people at a peaceful protest organ…\n",
      "RT @HollyGoNightly1: A West Papuan girl spoke at the BLM protest in Melbourne, the pain in her voice was excruciating. She had 10 minutes t…\n",
      "@beinlibertarian Because it’s hard to find a city with a weak government system.   Portland is one of a few places… https://t.co/SddElPzqGQ\n",
      "RT @LoukgolfLG: Lots of brave Thai students came out to protest against oppression by this government. They have had enough of this severel…\n",
      "RT @LoukgolfLG: Lots of brave Thai students came out to protest against oppression by this government. They have had enough of this severel…\n",
      "@thylacine313 @thechadallan So shouting \"4 feet back\" is the key to ensuring you are respecting a citizen's right t… https://t.co/GCvY4gFIBR\n",
      "RT @JDPHD2: 🐜 Antifa gets Portland’s blessings as it wreaks havoc\n",
      "\n",
      "🚓 DJT sends help that’s rebuked\n",
      "\n",
      "💤 They protect violence &amp; destruction…\n",
      "RT @IwriteOK: This is bullshit.\n",
      "\n",
      "I was there. The burning of the PPA was an intelligent, deliberate and successful action by well organized…\n",
      "@Madrangi_Nemath @ranveersiiingh Peaceful protest by blocking a highway for months. Peaceful protest with naara Ter… https://t.co/b43QDlK1zN\n",
      "RT @AutoVisionzEmbl: @Stanley37523796 @AbacusCoins People really need to learn the history of the flag.  Perhaps they would begin to compre…\n",
      "RT @Indys_Fionest84: R.Kelly Protest Update For Today....Due to rain..CHIME IN!!! https://t.co/qRBOhN14vc via @YouTube\n",
      "RT @awadhesh_p: @kashmir_watch I strongly protest the term ‘terrorist turned separatist’ leader used for Yasin Malik. Yasin was,is and rema…\n",
      "RT @plotagainstus: Anti mandatory mask mandate protest at the Ohio Statehouse✊. I drove 3 hrs from Toledo to Columbus to attend and took th…\n",
      "RT @AlexKokcharov: Today’s #protest in #Khabarovsk, east #Russia, is quite sizeable again: some estimates claim up to 30,000 people marched…\n",
      "RT @CJ_Feher: @paulkrugman PPB also falsely claimed that protestors had hurled milkshakes full of actual concrete at them during an earlier…\n",
      "@GunOfBavaria @SDOTtraffic I guess they are back at it again. idk the focus of *this particular protest.\n",
      "RT @ChartsGOT7: [PROJECT 2/?: BETTER TREATMENT FOR GOT7]\n",
      "\n",
      "[ PART 3: Protest ]\n",
      "\n",
      "DAY 9 (7/20 Mon)\n",
      "\n",
      "1. We will be trending these two hashtags…\n",
      "RT @NPR: The Trump administration calls Portland a \"city under siege.\" \n",
      "\n",
      "Protesters and journalists who frequent the demonstrations agree a…\n",
      "RT @NPR: ICYMI: The Oregon Department of Justice is suing several federal agencies for civil rights abuses after @OPB reporting revealed th…\n",
      "RT @Cernovich: The New York Times is running propaganda for a member of ANTIFA who believes that fire bombing of the Portland Police Associ…\n",
      "RT @KatieDaviscourt: NOW: Antifa Militants and Black Lives Matter rioters are breaking into Amazon Go Downtown Seattle. This protest has tu…\n",
      "RT @MotherJones: House Dems demand abuse of power investigation after federal agents storm Portland https://t.co/VNkqnOBdfA\n",
      "@Tsila1777 I literally replied with pictures I took of the Apple store memorial, showed you a picture of myself on… https://t.co/HH4kOpHEm8\n",
      "RT @BreeNewsome: Rioting &amp; property damage are legitimate forms of protest, especially for the dispossessed rebelling against the tyranny &amp;…\n",
      "sunni genocide 🤝 all lives matter \n",
      "          protesting a protest\n",
      "RT @PepperOceanna: @CoriBush walks the walk when it comes to standing up to police brutality. Here she is protesting with Black Lives Matte…\n",
      "RT @eugenegu: @realDonaldTrump I love my country and I love the United States of America. I love our Constitution and our First Amendment r…\n",
      "RT @BuddJenn: Attending a protest? Use this app that automatically uploads your video to ACLU.  ACLU Apps to Record Police Conduct | Americ…\n",
      "RT @AlexaRSoares: A bail fund has been set up by @pdxgdc, who have been working every day to bail out protestors and educate the community…\n",
      "@pwolff90 @_nxw @F1 Every team does this tho like Red Bull when they protest with DAS and Renault protesting with racing point\n",
      "RT @KatieDaviscourt: NOW: Antifa Militants and Black Lives Matter rioters are breaking into Amazon Go Downtown Seattle. This protest has tu…\n"
     ]
    }
   ],
   "source": [
    "app = Flask(__name__)\n",
    "\n",
    "\n",
    "@app.route('/')\n",
    "def home():\n",
    "    return render_template('copy.html')\n",
    "\n",
    "\n",
    "@app.route('/', methods=['POST', 'GET'])\n",
    "def get_data():\n",
    "    if request.method == 'POST':\n",
    "        user = request.form['search']\n",
    "        return redirect(url_for('success', name=user))\n",
    "\n",
    "\n",
    "@app.route('/success/<name>')\n",
    "def success(name):\n",
    "    return \"<xmp>\" + str(Results(name)) + \" </xmp> \"\n",
    "\n",
    "if __name__ == '__main__' :\n",
    "    app.run(debug=False)"
   ]
  },
  {
   "cell_type": "code",
   "execution_count": null,
   "metadata": {},
   "outputs": [],
   "source": []
  },
  {
   "cell_type": "code",
   "execution_count": null,
   "metadata": {},
   "outputs": [],
   "source": []
  },
  {
   "cell_type": "code",
   "execution_count": null,
   "metadata": {},
   "outputs": [],
   "source": []
  }
 ],
 "metadata": {
  "kernelspec": {
   "display_name": "Python 3",
   "language": "python",
   "name": "python3"
  },
  "language_info": {
   "codemirror_mode": {
    "name": "ipython",
    "version": 3
   },
   "file_extension": ".py",
   "mimetype": "text/x-python",
   "name": "python",
   "nbconvert_exporter": "python",
   "pygments_lexer": "ipython3",
   "version": "3.7.3"
  }
 },
 "nbformat": 4,
 "nbformat_minor": 4
}
